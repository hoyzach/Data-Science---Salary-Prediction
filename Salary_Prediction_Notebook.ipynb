{
 "cells": [
  {
   "cell_type": "markdown",
   "metadata": {},
   "source": [
    "# Salary Predictions Based on Job Descriptions"
   ]
  },
  {
   "cell_type": "markdown",
   "metadata": {},
   "source": [
    "# Part 1 - DEFINE"
   ]
  },
  {
   "cell_type": "markdown",
   "metadata": {},
   "source": [
    "### ---- Define the problem ----"
   ]
  },
  {
   "cell_type": "markdown",
   "metadata": {},
   "source": [
    "#### Data has been gathered from job listings containing the ideal candidate's required qualifications, some aspects of the position & company, along with the posted salary. The purpose of this notebook is to predict salaries of job listings with similar information which neglected to post a salary. The final product will consolidate the pre-pocessing, feature engineering, training, and predicting into a pipeline for production. The model should be constructed in less than 12 hours with the best accuracy possible, where mean-squared-error will be metric that the quality of the model is based upon. The end product may prove useful to recruiting firms and individual companies looking to remain competitive in the job market."
   ]
  },
  {
   "cell_type": "code",
   "execution_count": 1,
   "metadata": {},
   "outputs": [],
   "source": [
    "#Author name and contact information\n",
    "__author__ = \"Zachary Hoy\"\n",
    "__email__ = \"hoyzach@gmail.com\""
   ]
  },
  {
   "cell_type": "code",
   "execution_count": 2,
   "metadata": {},
   "outputs": [],
   "source": [
    "#Import all relevant libraries\n",
    "import pandas as pd\n",
    "import numpy as np\n",
    "import matplotlib.pyplot as plt\n",
    "import seaborn as sns\n",
    "from sklearn import preprocessing, metrics\n",
    "from sklearn.preprocessing import LabelEncoder, OneHotEncoder, MinMaxScaler\n",
    "from sklearn.model_selection import cross_val_score, train_test_split, GridSearchCV\n",
    "from sklearn.linear_model import LinearRegression, SGDRegressor\n",
    "from sklearn.tree import DecisionTreeRegressor\n",
    "from sklearn.ensemble import RandomForestRegressor\n",
    "import xgboost\n",
    "import pickle\n",
    "%matplotlib inline"
   ]
  },
  {
   "cell_type": "markdown",
   "metadata": {},
   "source": [
    "## Part 2 - DISCOVER"
   ]
  },
  {
   "cell_type": "markdown",
   "metadata": {},
   "source": [
    "### ---- Load the data ----"
   ]
  },
  {
   "cell_type": "code",
   "execution_count": 3,
   "metadata": {},
   "outputs": [],
   "source": [
    "#load the data into a Pandas dataframe\n",
    "raw_train_features = pd.read_csv(\"data/train_features.csv\")\n",
    "raw_train_targets = pd.read_csv(\"data/train_salaries.csv\")\n",
    "raw_test_features = pd.read_csv(\"data/test_features.csv\")"
   ]
  },
  {
   "cell_type": "markdown",
   "metadata": {},
   "source": [
    "### ---- Clean the data ----"
   ]
  },
  {
   "cell_type": "code",
   "execution_count": 4,
   "metadata": {},
   "outputs": [
    {
     "data": {
      "text/plain": [
       "(1000000, 8)"
      ]
     },
     "execution_count": 4,
     "metadata": {},
     "output_type": "execute_result"
    }
   ],
   "source": [
    "raw_train_features.shape"
   ]
  },
  {
   "cell_type": "code",
   "execution_count": 5,
   "metadata": {},
   "outputs": [
    {
     "data": {
      "text/plain": [
       "(1000000, 2)"
      ]
     },
     "execution_count": 5,
     "metadata": {},
     "output_type": "execute_result"
    }
   ],
   "source": [
    "raw_train_targets.shape"
   ]
  },
  {
   "cell_type": "code",
   "execution_count": 6,
   "metadata": {},
   "outputs": [
    {
     "data": {
      "text/html": [
       "<div>\n",
       "<style scoped>\n",
       "    .dataframe tbody tr th:only-of-type {\n",
       "        vertical-align: middle;\n",
       "    }\n",
       "\n",
       "    .dataframe tbody tr th {\n",
       "        vertical-align: top;\n",
       "    }\n",
       "\n",
       "    .dataframe thead th {\n",
       "        text-align: right;\n",
       "    }\n",
       "</style>\n",
       "<table border=\"1\" class=\"dataframe\">\n",
       "  <thead>\n",
       "    <tr style=\"text-align: right;\">\n",
       "      <th></th>\n",
       "      <th>jobId</th>\n",
       "      <th>companyId</th>\n",
       "      <th>jobType</th>\n",
       "      <th>degree</th>\n",
       "      <th>major</th>\n",
       "      <th>industry</th>\n",
       "      <th>yearsExperience</th>\n",
       "      <th>milesFromMetropolis</th>\n",
       "    </tr>\n",
       "  </thead>\n",
       "  <tbody>\n",
       "    <tr>\n",
       "      <th>0</th>\n",
       "      <td>JOB1362684407687</td>\n",
       "      <td>COMP37</td>\n",
       "      <td>CFO</td>\n",
       "      <td>MASTERS</td>\n",
       "      <td>MATH</td>\n",
       "      <td>HEALTH</td>\n",
       "      <td>10</td>\n",
       "      <td>83</td>\n",
       "    </tr>\n",
       "    <tr>\n",
       "      <th>1</th>\n",
       "      <td>JOB1362684407688</td>\n",
       "      <td>COMP19</td>\n",
       "      <td>CEO</td>\n",
       "      <td>HIGH_SCHOOL</td>\n",
       "      <td>NONE</td>\n",
       "      <td>WEB</td>\n",
       "      <td>3</td>\n",
       "      <td>73</td>\n",
       "    </tr>\n",
       "    <tr>\n",
       "      <th>2</th>\n",
       "      <td>JOB1362684407689</td>\n",
       "      <td>COMP52</td>\n",
       "      <td>VICE_PRESIDENT</td>\n",
       "      <td>DOCTORAL</td>\n",
       "      <td>PHYSICS</td>\n",
       "      <td>HEALTH</td>\n",
       "      <td>10</td>\n",
       "      <td>38</td>\n",
       "    </tr>\n",
       "    <tr>\n",
       "      <th>3</th>\n",
       "      <td>JOB1362684407690</td>\n",
       "      <td>COMP38</td>\n",
       "      <td>MANAGER</td>\n",
       "      <td>DOCTORAL</td>\n",
       "      <td>CHEMISTRY</td>\n",
       "      <td>AUTO</td>\n",
       "      <td>8</td>\n",
       "      <td>17</td>\n",
       "    </tr>\n",
       "    <tr>\n",
       "      <th>4</th>\n",
       "      <td>JOB1362684407691</td>\n",
       "      <td>COMP7</td>\n",
       "      <td>VICE_PRESIDENT</td>\n",
       "      <td>BACHELORS</td>\n",
       "      <td>PHYSICS</td>\n",
       "      <td>FINANCE</td>\n",
       "      <td>8</td>\n",
       "      <td>16</td>\n",
       "    </tr>\n",
       "  </tbody>\n",
       "</table>\n",
       "</div>"
      ],
      "text/plain": [
       "              jobId companyId         jobType       degree      major  \\\n",
       "0  JOB1362684407687    COMP37             CFO      MASTERS       MATH   \n",
       "1  JOB1362684407688    COMP19             CEO  HIGH_SCHOOL       NONE   \n",
       "2  JOB1362684407689    COMP52  VICE_PRESIDENT     DOCTORAL    PHYSICS   \n",
       "3  JOB1362684407690    COMP38         MANAGER     DOCTORAL  CHEMISTRY   \n",
       "4  JOB1362684407691     COMP7  VICE_PRESIDENT    BACHELORS    PHYSICS   \n",
       "\n",
       "  industry  yearsExperience  milesFromMetropolis  \n",
       "0   HEALTH               10                   83  \n",
       "1      WEB                3                   73  \n",
       "2   HEALTH               10                   38  \n",
       "3     AUTO                8                   17  \n",
       "4  FINANCE                8                   16  "
      ]
     },
     "execution_count": 6,
     "metadata": {},
     "output_type": "execute_result"
    }
   ],
   "source": [
    "#get a general overview of the training features provided\n",
    "raw_train_features.head()"
   ]
  },
  {
   "cell_type": "code",
   "execution_count": 7,
   "metadata": {},
   "outputs": [
    {
     "data": {
      "text/html": [
       "<div>\n",
       "<style scoped>\n",
       "    .dataframe tbody tr th:only-of-type {\n",
       "        vertical-align: middle;\n",
       "    }\n",
       "\n",
       "    .dataframe tbody tr th {\n",
       "        vertical-align: top;\n",
       "    }\n",
       "\n",
       "    .dataframe thead th {\n",
       "        text-align: right;\n",
       "    }\n",
       "</style>\n",
       "<table border=\"1\" class=\"dataframe\">\n",
       "  <thead>\n",
       "    <tr style=\"text-align: right;\">\n",
       "      <th></th>\n",
       "      <th>jobId</th>\n",
       "      <th>salary</th>\n",
       "    </tr>\n",
       "  </thead>\n",
       "  <tbody>\n",
       "    <tr>\n",
       "      <th>0</th>\n",
       "      <td>JOB1362684407687</td>\n",
       "      <td>130</td>\n",
       "    </tr>\n",
       "    <tr>\n",
       "      <th>1</th>\n",
       "      <td>JOB1362684407688</td>\n",
       "      <td>101</td>\n",
       "    </tr>\n",
       "    <tr>\n",
       "      <th>2</th>\n",
       "      <td>JOB1362684407689</td>\n",
       "      <td>137</td>\n",
       "    </tr>\n",
       "    <tr>\n",
       "      <th>3</th>\n",
       "      <td>JOB1362684407690</td>\n",
       "      <td>142</td>\n",
       "    </tr>\n",
       "    <tr>\n",
       "      <th>4</th>\n",
       "      <td>JOB1362684407691</td>\n",
       "      <td>163</td>\n",
       "    </tr>\n",
       "  </tbody>\n",
       "</table>\n",
       "</div>"
      ],
      "text/plain": [
       "              jobId  salary\n",
       "0  JOB1362684407687     130\n",
       "1  JOB1362684407688     101\n",
       "2  JOB1362684407689     137\n",
       "3  JOB1362684407690     142\n",
       "4  JOB1362684407691     163"
      ]
     },
     "execution_count": 7,
     "metadata": {},
     "output_type": "execute_result"
    }
   ],
   "source": [
    "#get a general overview of the training targets provided\n",
    "raw_train_targets.head()"
   ]
  },
  {
   "cell_type": "code",
   "execution_count": 8,
   "metadata": {},
   "outputs": [
    {
     "data": {
      "text/html": [
       "<div>\n",
       "<style scoped>\n",
       "    .dataframe tbody tr th:only-of-type {\n",
       "        vertical-align: middle;\n",
       "    }\n",
       "\n",
       "    .dataframe tbody tr th {\n",
       "        vertical-align: top;\n",
       "    }\n",
       "\n",
       "    .dataframe thead th {\n",
       "        text-align: right;\n",
       "    }\n",
       "</style>\n",
       "<table border=\"1\" class=\"dataframe\">\n",
       "  <thead>\n",
       "    <tr style=\"text-align: right;\">\n",
       "      <th></th>\n",
       "      <th>jobId</th>\n",
       "      <th>companyId</th>\n",
       "      <th>jobType</th>\n",
       "      <th>degree</th>\n",
       "      <th>major</th>\n",
       "      <th>industry</th>\n",
       "      <th>yearsExperience</th>\n",
       "      <th>milesFromMetropolis</th>\n",
       "    </tr>\n",
       "  </thead>\n",
       "  <tbody>\n",
       "    <tr>\n",
       "      <th>0</th>\n",
       "      <td>JOB1362685407687</td>\n",
       "      <td>COMP33</td>\n",
       "      <td>MANAGER</td>\n",
       "      <td>HIGH_SCHOOL</td>\n",
       "      <td>NONE</td>\n",
       "      <td>HEALTH</td>\n",
       "      <td>22</td>\n",
       "      <td>73</td>\n",
       "    </tr>\n",
       "    <tr>\n",
       "      <th>1</th>\n",
       "      <td>JOB1362685407688</td>\n",
       "      <td>COMP13</td>\n",
       "      <td>JUNIOR</td>\n",
       "      <td>NONE</td>\n",
       "      <td>NONE</td>\n",
       "      <td>AUTO</td>\n",
       "      <td>20</td>\n",
       "      <td>47</td>\n",
       "    </tr>\n",
       "    <tr>\n",
       "      <th>2</th>\n",
       "      <td>JOB1362685407689</td>\n",
       "      <td>COMP10</td>\n",
       "      <td>CTO</td>\n",
       "      <td>MASTERS</td>\n",
       "      <td>BIOLOGY</td>\n",
       "      <td>HEALTH</td>\n",
       "      <td>17</td>\n",
       "      <td>9</td>\n",
       "    </tr>\n",
       "    <tr>\n",
       "      <th>3</th>\n",
       "      <td>JOB1362685407690</td>\n",
       "      <td>COMP21</td>\n",
       "      <td>MANAGER</td>\n",
       "      <td>HIGH_SCHOOL</td>\n",
       "      <td>NONE</td>\n",
       "      <td>OIL</td>\n",
       "      <td>14</td>\n",
       "      <td>96</td>\n",
       "    </tr>\n",
       "    <tr>\n",
       "      <th>4</th>\n",
       "      <td>JOB1362685407691</td>\n",
       "      <td>COMP36</td>\n",
       "      <td>JUNIOR</td>\n",
       "      <td>DOCTORAL</td>\n",
       "      <td>BIOLOGY</td>\n",
       "      <td>OIL</td>\n",
       "      <td>10</td>\n",
       "      <td>44</td>\n",
       "    </tr>\n",
       "  </tbody>\n",
       "</table>\n",
       "</div>"
      ],
      "text/plain": [
       "              jobId companyId  jobType       degree    major industry  \\\n",
       "0  JOB1362685407687    COMP33  MANAGER  HIGH_SCHOOL     NONE   HEALTH   \n",
       "1  JOB1362685407688    COMP13   JUNIOR         NONE     NONE     AUTO   \n",
       "2  JOB1362685407689    COMP10      CTO      MASTERS  BIOLOGY   HEALTH   \n",
       "3  JOB1362685407690    COMP21  MANAGER  HIGH_SCHOOL     NONE      OIL   \n",
       "4  JOB1362685407691    COMP36   JUNIOR     DOCTORAL  BIOLOGY      OIL   \n",
       "\n",
       "   yearsExperience  milesFromMetropolis  \n",
       "0               22                   73  \n",
       "1               20                   47  \n",
       "2               17                    9  \n",
       "3               14                   96  \n",
       "4               10                   44  "
      ]
     },
     "execution_count": 8,
     "metadata": {},
     "output_type": "execute_result"
    }
   ],
   "source": [
    "#get a general overview of the testing features provided\n",
    "raw_test_features.head()"
   ]
  },
  {
   "cell_type": "code",
   "execution_count": 9,
   "metadata": {},
   "outputs": [
    {
     "data": {
      "text/plain": [
       "array([ True])"
      ]
     },
     "execution_count": 9,
     "metadata": {},
     "output_type": "execute_result"
    }
   ],
   "source": [
    "#check to see if both jobId columns of training features and targets are in the same order\n",
    "compare_jobIds = np.where(raw_train_features[\"jobId\"] == raw_train_targets[\"jobId\"],True,False)\n",
    "np.unique(compare_jobIds, return_counts=False)"
   ]
  },
  {
   "cell_type": "code",
   "execution_count": 10,
   "metadata": {},
   "outputs": [
    {
     "data": {
      "text/plain": [
       "0"
      ]
     },
     "execution_count": 10,
     "metadata": {},
     "output_type": "execute_result"
    }
   ],
   "source": [
    "raw_train_targets.duplicated().sum()"
   ]
  },
  {
   "cell_type": "code",
   "execution_count": 11,
   "metadata": {},
   "outputs": [
    {
     "data": {
      "text/plain": [
       "0"
      ]
     },
     "execution_count": 11,
     "metadata": {},
     "output_type": "execute_result"
    }
   ],
   "source": [
    "#check for duplicate rows\n",
    "raw_train_features.duplicated().sum()"
   ]
  },
  {
   "cell_type": "code",
   "execution_count": 12,
   "metadata": {},
   "outputs": [
    {
     "data": {
      "text/html": [
       "<div>\n",
       "<style scoped>\n",
       "    .dataframe tbody tr th:only-of-type {\n",
       "        vertical-align: middle;\n",
       "    }\n",
       "\n",
       "    .dataframe tbody tr th {\n",
       "        vertical-align: top;\n",
       "    }\n",
       "\n",
       "    .dataframe thead th {\n",
       "        text-align: right;\n",
       "    }\n",
       "</style>\n",
       "<table border=\"1\" class=\"dataframe\">\n",
       "  <thead>\n",
       "    <tr style=\"text-align: right;\">\n",
       "      <th></th>\n",
       "      <th>companyId</th>\n",
       "      <th>jobType</th>\n",
       "      <th>degree</th>\n",
       "      <th>major</th>\n",
       "      <th>industry</th>\n",
       "      <th>yearsExperience</th>\n",
       "      <th>milesFromMetropolis</th>\n",
       "      <th>salary</th>\n",
       "    </tr>\n",
       "  </thead>\n",
       "  <tbody>\n",
       "    <tr>\n",
       "      <th>0</th>\n",
       "      <td>COMP37</td>\n",
       "      <td>CFO</td>\n",
       "      <td>MASTERS</td>\n",
       "      <td>MATH</td>\n",
       "      <td>HEALTH</td>\n",
       "      <td>10</td>\n",
       "      <td>83</td>\n",
       "      <td>130</td>\n",
       "    </tr>\n",
       "    <tr>\n",
       "      <th>1</th>\n",
       "      <td>COMP19</td>\n",
       "      <td>CEO</td>\n",
       "      <td>HIGH_SCHOOL</td>\n",
       "      <td>NONE</td>\n",
       "      <td>WEB</td>\n",
       "      <td>3</td>\n",
       "      <td>73</td>\n",
       "      <td>101</td>\n",
       "    </tr>\n",
       "    <tr>\n",
       "      <th>2</th>\n",
       "      <td>COMP52</td>\n",
       "      <td>VICE_PRESIDENT</td>\n",
       "      <td>DOCTORAL</td>\n",
       "      <td>PHYSICS</td>\n",
       "      <td>HEALTH</td>\n",
       "      <td>10</td>\n",
       "      <td>38</td>\n",
       "      <td>137</td>\n",
       "    </tr>\n",
       "    <tr>\n",
       "      <th>3</th>\n",
       "      <td>COMP38</td>\n",
       "      <td>MANAGER</td>\n",
       "      <td>DOCTORAL</td>\n",
       "      <td>CHEMISTRY</td>\n",
       "      <td>AUTO</td>\n",
       "      <td>8</td>\n",
       "      <td>17</td>\n",
       "      <td>142</td>\n",
       "    </tr>\n",
       "    <tr>\n",
       "      <th>4</th>\n",
       "      <td>COMP7</td>\n",
       "      <td>VICE_PRESIDENT</td>\n",
       "      <td>BACHELORS</td>\n",
       "      <td>PHYSICS</td>\n",
       "      <td>FINANCE</td>\n",
       "      <td>8</td>\n",
       "      <td>16</td>\n",
       "      <td>163</td>\n",
       "    </tr>\n",
       "  </tbody>\n",
       "</table>\n",
       "</div>"
      ],
      "text/plain": [
       "  companyId         jobType       degree      major industry  yearsExperience  \\\n",
       "0    COMP37             CFO      MASTERS       MATH   HEALTH               10   \n",
       "1    COMP19             CEO  HIGH_SCHOOL       NONE      WEB                3   \n",
       "2    COMP52  VICE_PRESIDENT     DOCTORAL    PHYSICS   HEALTH               10   \n",
       "3    COMP38         MANAGER     DOCTORAL  CHEMISTRY     AUTO                8   \n",
       "4     COMP7  VICE_PRESIDENT    BACHELORS    PHYSICS  FINANCE                8   \n",
       "\n",
       "   milesFromMetropolis  salary  \n",
       "0                   83     130  \n",
       "1                   73     101  \n",
       "2                   38     137  \n",
       "3                   17     142  \n",
       "4                   16     163  "
      ]
     },
     "execution_count": 12,
     "metadata": {},
     "output_type": "execute_result"
    }
   ],
   "source": [
    "#merge feature and target train data into single dataframe and drop jobId as its a duplicate index\n",
    "df = pd.merge(raw_train_features, raw_train_targets, on='jobId')\n",
    "df = df.drop('jobId',axis=1)\n",
    "df.head()"
   ]
  },
  {
   "cell_type": "code",
   "execution_count": 13,
   "metadata": {},
   "outputs": [],
   "source": [
    "#delete the original files to save memory\n",
    "del raw_train_features\n",
    "del raw_train_targets\n",
    "del raw_test_features"
   ]
  },
  {
   "cell_type": "code",
   "execution_count": 14,
   "metadata": {},
   "outputs": [
    {
     "name": "stdout",
     "output_type": "stream",
     "text": [
      "<class 'pandas.core.frame.DataFrame'>\n",
      "Int64Index: 1000000 entries, 0 to 999999\n",
      "Data columns (total 8 columns):\n",
      " #   Column               Non-Null Count    Dtype \n",
      "---  ------               --------------    ----- \n",
      " 0   companyId            1000000 non-null  object\n",
      " 1   jobType              1000000 non-null  object\n",
      " 2   degree               1000000 non-null  object\n",
      " 3   major                1000000 non-null  object\n",
      " 4   industry             1000000 non-null  object\n",
      " 5   yearsExperience      1000000 non-null  int64 \n",
      " 6   milesFromMetropolis  1000000 non-null  int64 \n",
      " 7   salary               1000000 non-null  int64 \n",
      "dtypes: int64(3), object(5)\n",
      "memory usage: 68.7+ MB\n"
     ]
    }
   ],
   "source": [
    "#check data types\n",
    "df.info()"
   ]
  },
  {
   "cell_type": "code",
   "execution_count": 15,
   "metadata": {},
   "outputs": [
    {
     "data": {
      "text/plain": [
       "companyId              False\n",
       "jobType                False\n",
       "degree                 False\n",
       "major                  False\n",
       "industry               False\n",
       "yearsExperience        False\n",
       "milesFromMetropolis    False\n",
       "salary                 False\n",
       "dtype: bool"
      ]
     },
     "execution_count": 15,
     "metadata": {},
     "output_type": "execute_result"
    }
   ],
   "source": [
    "#check for null values\n",
    "df.isnull().any()"
   ]
  },
  {
   "cell_type": "code",
   "execution_count": 16,
   "metadata": {},
   "outputs": [
    {
     "data": {
      "text/plain": [
       "array(['COMP37', 'COMP19', 'COMP52', 'COMP38', 'COMP7', 'COMP15',\n",
       "       'COMP24', 'COMP20', 'COMP41', 'COMP56', 'COMP4', 'COMP54',\n",
       "       'COMP57', 'COMP14', 'COMP61', 'COMP58', 'COMP3', 'COMP44',\n",
       "       'COMP30', 'COMP27', 'COMP34', 'COMP11', 'COMP31', 'COMP49',\n",
       "       'COMP0', 'COMP1', 'COMP36', 'COMP47', 'COMP8', 'COMP42', 'COMP50',\n",
       "       'COMP53', 'COMP48', 'COMP45', 'COMP46', 'COMP2', 'COMP5', 'COMP55',\n",
       "       'COMP29', 'COMP40', 'COMP33', 'COMP22', 'COMP12', 'COMP25',\n",
       "       'COMP6', 'COMP23', 'COMP17', 'COMP28', 'COMP21', 'COMP26',\n",
       "       'COMP43', 'COMP51', 'COMP10', 'COMP59', 'COMP13', 'COMP39',\n",
       "       'COMP16', 'COMP9', 'COMP32', 'COMP62', 'COMP35', 'COMP18',\n",
       "       'COMP60'], dtype=object)"
      ]
     },
     "execution_count": 16,
     "metadata": {},
     "output_type": "execute_result"
    }
   ],
   "source": [
    "#check companyId column for invalid inputs\n",
    "df['companyId'].unique()"
   ]
  },
  {
   "cell_type": "code",
   "execution_count": 17,
   "metadata": {},
   "outputs": [
    {
     "data": {
      "text/plain": [
       "SENIOR            125886\n",
       "VICE_PRESIDENT    125235\n",
       "MANAGER           125121\n",
       "CTO               125046\n",
       "JANITOR           124971\n",
       "CEO               124778\n",
       "JUNIOR            124594\n",
       "CFO               124369\n",
       "Name: jobType, dtype: int64"
      ]
     },
     "execution_count": 17,
     "metadata": {},
     "output_type": "execute_result"
    }
   ],
   "source": [
    "#check jobType column for invalid inputs\n",
    "df['jobType'].value_counts()"
   ]
  },
  {
   "cell_type": "code",
   "execution_count": 18,
   "metadata": {},
   "outputs": [
    {
     "data": {
      "text/plain": [
       "HIGH_SCHOOL    236976\n",
       "NONE           236854\n",
       "BACHELORS      175495\n",
       "DOCTORAL       175364\n",
       "MASTERS        175311\n",
       "Name: degree, dtype: int64"
      ]
     },
     "execution_count": 18,
     "metadata": {},
     "output_type": "execute_result"
    }
   ],
   "source": [
    "#check degree column for invalid inputs\n",
    "df['degree'].value_counts()"
   ]
  },
  {
   "cell_type": "code",
   "execution_count": 19,
   "metadata": {},
   "outputs": [
    {
     "data": {
      "text/plain": [
       "NONE           532355\n",
       "CHEMISTRY       58875\n",
       "LITERATURE      58684\n",
       "ENGINEERING     58596\n",
       "BUSINESS        58518\n",
       "PHYSICS         58410\n",
       "COMPSCI         58382\n",
       "BIOLOGY         58379\n",
       "MATH            57801\n",
       "Name: major, dtype: int64"
      ]
     },
     "execution_count": 19,
     "metadata": {},
     "output_type": "execute_result"
    }
   ],
   "source": [
    "#check major column for invalid inputs\n",
    "df['major'].value_counts()"
   ]
  },
  {
   "cell_type": "code",
   "execution_count": 20,
   "metadata": {},
   "outputs": [
    {
     "data": {
      "text/plain": [
       "WEB          143206\n",
       "AUTO         142943\n",
       "FINANCE      142867\n",
       "EDUCATION    142819\n",
       "OIL          142771\n",
       "HEALTH       142755\n",
       "SERVICE      142639\n",
       "Name: industry, dtype: int64"
      ]
     },
     "execution_count": 20,
     "metadata": {},
     "output_type": "execute_result"
    }
   ],
   "source": [
    "#check industry column for invalid inputs\n",
    "df['industry'].value_counts()"
   ]
  },
  {
   "cell_type": "code",
   "execution_count": 21,
   "metadata": {},
   "outputs": [
    {
     "data": {
      "text/html": [
       "<div>\n",
       "<style scoped>\n",
       "    .dataframe tbody tr th:only-of-type {\n",
       "        vertical-align: middle;\n",
       "    }\n",
       "\n",
       "    .dataframe tbody tr th {\n",
       "        vertical-align: top;\n",
       "    }\n",
       "\n",
       "    .dataframe thead th {\n",
       "        text-align: right;\n",
       "    }\n",
       "</style>\n",
       "<table border=\"1\" class=\"dataframe\">\n",
       "  <thead>\n",
       "    <tr style=\"text-align: right;\">\n",
       "      <th></th>\n",
       "      <th>yearsExperience</th>\n",
       "      <th>milesFromMetropolis</th>\n",
       "      <th>salary</th>\n",
       "    </tr>\n",
       "  </thead>\n",
       "  <tbody>\n",
       "    <tr>\n",
       "      <th>count</th>\n",
       "      <td>1000000.000000</td>\n",
       "      <td>1000000.000000</td>\n",
       "      <td>1000000.000000</td>\n",
       "    </tr>\n",
       "    <tr>\n",
       "      <th>mean</th>\n",
       "      <td>11.992386</td>\n",
       "      <td>49.529260</td>\n",
       "      <td>116.061818</td>\n",
       "    </tr>\n",
       "    <tr>\n",
       "      <th>std</th>\n",
       "      <td>7.212391</td>\n",
       "      <td>28.877733</td>\n",
       "      <td>38.717936</td>\n",
       "    </tr>\n",
       "    <tr>\n",
       "      <th>min</th>\n",
       "      <td>0.000000</td>\n",
       "      <td>0.000000</td>\n",
       "      <td>0.000000</td>\n",
       "    </tr>\n",
       "    <tr>\n",
       "      <th>25%</th>\n",
       "      <td>6.000000</td>\n",
       "      <td>25.000000</td>\n",
       "      <td>88.000000</td>\n",
       "    </tr>\n",
       "    <tr>\n",
       "      <th>50%</th>\n",
       "      <td>12.000000</td>\n",
       "      <td>50.000000</td>\n",
       "      <td>114.000000</td>\n",
       "    </tr>\n",
       "    <tr>\n",
       "      <th>75%</th>\n",
       "      <td>18.000000</td>\n",
       "      <td>75.000000</td>\n",
       "      <td>141.000000</td>\n",
       "    </tr>\n",
       "    <tr>\n",
       "      <th>max</th>\n",
       "      <td>24.000000</td>\n",
       "      <td>99.000000</td>\n",
       "      <td>301.000000</td>\n",
       "    </tr>\n",
       "  </tbody>\n",
       "</table>\n",
       "</div>"
      ],
      "text/plain": [
       "       yearsExperience  milesFromMetropolis          salary\n",
       "count   1000000.000000       1000000.000000  1000000.000000\n",
       "mean         11.992386            49.529260      116.061818\n",
       "std           7.212391            28.877733       38.717936\n",
       "min           0.000000             0.000000        0.000000\n",
       "25%           6.000000            25.000000       88.000000\n",
       "50%          12.000000            50.000000      114.000000\n",
       "75%          18.000000            75.000000      141.000000\n",
       "max          24.000000            99.000000      301.000000"
      ]
     },
     "execution_count": 21,
     "metadata": {},
     "output_type": "execute_result"
    }
   ],
   "source": [
    "#check for negative or unrealistic values\n",
    "df.describe()"
   ]
  },
  {
   "cell_type": "code",
   "execution_count": 22,
   "metadata": {},
   "outputs": [
    {
     "name": "stdout",
     "output_type": "stream",
     "text": [
      "count    1000000.000000\n",
      "mean         116.061818\n",
      "std           38.717936\n",
      "min            0.000000\n",
      "25%           88.000000\n",
      "50%          114.000000\n",
      "75%          141.000000\n",
      "max          301.000000\n",
      "Name: salary, dtype: float64\n",
      "The upper outlier limit is 220.5\n",
      "The lower outlier limit is 8.5\n"
     ]
    }
   ],
   "source": [
    "#Explore the upper and lower quartiles of the target\n",
    "dataset = df.salary.describe()\n",
    "print(dataset)\n",
    "IQR = dataset['75%']-dataset['25%']\n",
    "upperlimit = dataset['75%'] + (1.5*IQR)\n",
    "lowerlimit = dataset['25%'] - (1.5*IQR)\n",
    "print(\"The upper outlier limit is\", upperlimit)\n",
    "print(\"The lower outlier limit is\", lowerlimit)"
   ]
  },
  {
   "cell_type": "code",
   "execution_count": 23,
   "metadata": {},
   "outputs": [
    {
     "data": {
      "text/html": [
       "<div>\n",
       "<style scoped>\n",
       "    .dataframe tbody tr th:only-of-type {\n",
       "        vertical-align: middle;\n",
       "    }\n",
       "\n",
       "    .dataframe tbody tr th {\n",
       "        vertical-align: top;\n",
       "    }\n",
       "\n",
       "    .dataframe thead th {\n",
       "        text-align: right;\n",
       "    }\n",
       "</style>\n",
       "<table border=\"1\" class=\"dataframe\">\n",
       "  <thead>\n",
       "    <tr style=\"text-align: right;\">\n",
       "      <th></th>\n",
       "      <th>companyId</th>\n",
       "      <th>jobType</th>\n",
       "      <th>degree</th>\n",
       "      <th>major</th>\n",
       "      <th>industry</th>\n",
       "      <th>yearsExperience</th>\n",
       "      <th>milesFromMetropolis</th>\n",
       "      <th>salary</th>\n",
       "    </tr>\n",
       "  </thead>\n",
       "  <tbody>\n",
       "    <tr>\n",
       "      <th>30559</th>\n",
       "      <td>COMP44</td>\n",
       "      <td>JUNIOR</td>\n",
       "      <td>DOCTORAL</td>\n",
       "      <td>MATH</td>\n",
       "      <td>AUTO</td>\n",
       "      <td>11</td>\n",
       "      <td>7</td>\n",
       "      <td>0</td>\n",
       "    </tr>\n",
       "    <tr>\n",
       "      <th>495984</th>\n",
       "      <td>COMP34</td>\n",
       "      <td>JUNIOR</td>\n",
       "      <td>NONE</td>\n",
       "      <td>NONE</td>\n",
       "      <td>OIL</td>\n",
       "      <td>1</td>\n",
       "      <td>25</td>\n",
       "      <td>0</td>\n",
       "    </tr>\n",
       "    <tr>\n",
       "      <th>652076</th>\n",
       "      <td>COMP25</td>\n",
       "      <td>CTO</td>\n",
       "      <td>HIGH_SCHOOL</td>\n",
       "      <td>NONE</td>\n",
       "      <td>AUTO</td>\n",
       "      <td>6</td>\n",
       "      <td>60</td>\n",
       "      <td>0</td>\n",
       "    </tr>\n",
       "    <tr>\n",
       "      <th>816129</th>\n",
       "      <td>COMP42</td>\n",
       "      <td>MANAGER</td>\n",
       "      <td>DOCTORAL</td>\n",
       "      <td>ENGINEERING</td>\n",
       "      <td>FINANCE</td>\n",
       "      <td>18</td>\n",
       "      <td>6</td>\n",
       "      <td>0</td>\n",
       "    </tr>\n",
       "    <tr>\n",
       "      <th>828156</th>\n",
       "      <td>COMP40</td>\n",
       "      <td>VICE_PRESIDENT</td>\n",
       "      <td>MASTERS</td>\n",
       "      <td>ENGINEERING</td>\n",
       "      <td>WEB</td>\n",
       "      <td>3</td>\n",
       "      <td>29</td>\n",
       "      <td>0</td>\n",
       "    </tr>\n",
       "  </tbody>\n",
       "</table>\n",
       "</div>"
      ],
      "text/plain": [
       "       companyId         jobType       degree        major industry  \\\n",
       "30559     COMP44          JUNIOR     DOCTORAL         MATH     AUTO   \n",
       "495984    COMP34          JUNIOR         NONE         NONE      OIL   \n",
       "652076    COMP25             CTO  HIGH_SCHOOL         NONE     AUTO   \n",
       "816129    COMP42         MANAGER     DOCTORAL  ENGINEERING  FINANCE   \n",
       "828156    COMP40  VICE_PRESIDENT      MASTERS  ENGINEERING      WEB   \n",
       "\n",
       "        yearsExperience  milesFromMetropolis  salary  \n",
       "30559                11                    7       0  \n",
       "495984                1                   25       0  \n",
       "652076                6                   60       0  \n",
       "816129               18                    6       0  \n",
       "828156                3                   29       0  "
      ]
     },
     "execution_count": 23,
     "metadata": {},
     "output_type": "execute_result"
    }
   ],
   "source": [
    "#Explore the outliers at the lower end of the salary distribution\n",
    "df.loc[df.salary < lowerlimit]"
   ]
  },
  {
   "cell_type": "markdown",
   "metadata": {},
   "source": [
    "#### The lower limit outliers are $0 salaries. Since these targets do not contribute to the purpose of the model, its better to exclude them."
   ]
  },
  {
   "cell_type": "code",
   "execution_count": 24,
   "metadata": {},
   "outputs": [
    {
     "data": {
      "text/plain": [
       "(999995, 8)"
      ]
     },
     "execution_count": 24,
     "metadata": {},
     "output_type": "execute_result"
    }
   ],
   "source": [
    "#Drop entries where posted salary = $0\n",
    "df = df[df['salary'] > lowerlimit]\n",
    "df.shape"
   ]
  },
  {
   "cell_type": "code",
   "execution_count": 25,
   "metadata": {},
   "outputs": [
    {
     "data": {
      "text/plain": [
       "CEO               3227\n",
       "CFO               1496\n",
       "CTO               1488\n",
       "VICE_PRESIDENT     603\n",
       "MANAGER            217\n",
       "SENIOR              66\n",
       "JUNIOR              20\n",
       "Name: jobType, dtype: int64"
      ]
     },
     "execution_count": 25,
     "metadata": {},
     "output_type": "execute_result"
    }
   ],
   "source": [
    "#Explore the outliers at the upper end of the salary distribution\n",
    "df.loc[df.salary > upperlimit,'jobType'].value_counts()"
   ]
  },
  {
   "cell_type": "markdown",
   "metadata": {},
   "source": [
    "#### Most positions with a salary above the upper limit are of high rank so they are acceptable, except for Junior positions which will be explored more."
   ]
  },
  {
   "cell_type": "code",
   "execution_count": 26,
   "metadata": {},
   "outputs": [
    {
     "data": {
      "text/html": [
       "<div>\n",
       "<style scoped>\n",
       "    .dataframe tbody tr th:only-of-type {\n",
       "        vertical-align: middle;\n",
       "    }\n",
       "\n",
       "    .dataframe tbody tr th {\n",
       "        vertical-align: top;\n",
       "    }\n",
       "\n",
       "    .dataframe thead th {\n",
       "        text-align: right;\n",
       "    }\n",
       "</style>\n",
       "<table border=\"1\" class=\"dataframe\">\n",
       "  <thead>\n",
       "    <tr style=\"text-align: right;\">\n",
       "      <th></th>\n",
       "      <th>companyId</th>\n",
       "      <th>jobType</th>\n",
       "      <th>degree</th>\n",
       "      <th>major</th>\n",
       "      <th>industry</th>\n",
       "      <th>yearsExperience</th>\n",
       "      <th>milesFromMetropolis</th>\n",
       "      <th>salary</th>\n",
       "    </tr>\n",
       "  </thead>\n",
       "  <tbody>\n",
       "    <tr>\n",
       "      <th>1222</th>\n",
       "      <td>COMP40</td>\n",
       "      <td>JUNIOR</td>\n",
       "      <td>MASTERS</td>\n",
       "      <td>COMPSCI</td>\n",
       "      <td>OIL</td>\n",
       "      <td>24</td>\n",
       "      <td>5</td>\n",
       "      <td>225</td>\n",
       "    </tr>\n",
       "    <tr>\n",
       "      <th>27710</th>\n",
       "      <td>COMP21</td>\n",
       "      <td>JUNIOR</td>\n",
       "      <td>DOCTORAL</td>\n",
       "      <td>ENGINEERING</td>\n",
       "      <td>OIL</td>\n",
       "      <td>24</td>\n",
       "      <td>3</td>\n",
       "      <td>246</td>\n",
       "    </tr>\n",
       "    <tr>\n",
       "      <th>31355</th>\n",
       "      <td>COMP45</td>\n",
       "      <td>JUNIOR</td>\n",
       "      <td>DOCTORAL</td>\n",
       "      <td>COMPSCI</td>\n",
       "      <td>FINANCE</td>\n",
       "      <td>24</td>\n",
       "      <td>0</td>\n",
       "      <td>225</td>\n",
       "    </tr>\n",
       "    <tr>\n",
       "      <th>100042</th>\n",
       "      <td>COMP17</td>\n",
       "      <td>JUNIOR</td>\n",
       "      <td>DOCTORAL</td>\n",
       "      <td>BUSINESS</td>\n",
       "      <td>FINANCE</td>\n",
       "      <td>23</td>\n",
       "      <td>8</td>\n",
       "      <td>248</td>\n",
       "    </tr>\n",
       "    <tr>\n",
       "      <th>160333</th>\n",
       "      <td>COMP18</td>\n",
       "      <td>JUNIOR</td>\n",
       "      <td>DOCTORAL</td>\n",
       "      <td>BUSINESS</td>\n",
       "      <td>FINANCE</td>\n",
       "      <td>22</td>\n",
       "      <td>3</td>\n",
       "      <td>223</td>\n",
       "    </tr>\n",
       "    <tr>\n",
       "      <th>189582</th>\n",
       "      <td>COMP32</td>\n",
       "      <td>JUNIOR</td>\n",
       "      <td>DOCTORAL</td>\n",
       "      <td>BUSINESS</td>\n",
       "      <td>OIL</td>\n",
       "      <td>24</td>\n",
       "      <td>11</td>\n",
       "      <td>221</td>\n",
       "    </tr>\n",
       "    <tr>\n",
       "      <th>214606</th>\n",
       "      <td>COMP47</td>\n",
       "      <td>JUNIOR</td>\n",
       "      <td>MASTERS</td>\n",
       "      <td>BUSINESS</td>\n",
       "      <td>FINANCE</td>\n",
       "      <td>22</td>\n",
       "      <td>4</td>\n",
       "      <td>222</td>\n",
       "    </tr>\n",
       "    <tr>\n",
       "      <th>303778</th>\n",
       "      <td>COMP51</td>\n",
       "      <td>JUNIOR</td>\n",
       "      <td>MASTERS</td>\n",
       "      <td>ENGINEERING</td>\n",
       "      <td>WEB</td>\n",
       "      <td>24</td>\n",
       "      <td>2</td>\n",
       "      <td>226</td>\n",
       "    </tr>\n",
       "    <tr>\n",
       "      <th>348354</th>\n",
       "      <td>COMP56</td>\n",
       "      <td>JUNIOR</td>\n",
       "      <td>DOCTORAL</td>\n",
       "      <td>ENGINEERING</td>\n",
       "      <td>OIL</td>\n",
       "      <td>23</td>\n",
       "      <td>25</td>\n",
       "      <td>226</td>\n",
       "    </tr>\n",
       "    <tr>\n",
       "      <th>427593</th>\n",
       "      <td>COMP54</td>\n",
       "      <td>JUNIOR</td>\n",
       "      <td>DOCTORAL</td>\n",
       "      <td>ENGINEERING</td>\n",
       "      <td>FINANCE</td>\n",
       "      <td>23</td>\n",
       "      <td>3</td>\n",
       "      <td>221</td>\n",
       "    </tr>\n",
       "    <tr>\n",
       "      <th>500739</th>\n",
       "      <td>COMP40</td>\n",
       "      <td>JUNIOR</td>\n",
       "      <td>DOCTORAL</td>\n",
       "      <td>ENGINEERING</td>\n",
       "      <td>OIL</td>\n",
       "      <td>21</td>\n",
       "      <td>0</td>\n",
       "      <td>227</td>\n",
       "    </tr>\n",
       "    <tr>\n",
       "      <th>627534</th>\n",
       "      <td>COMP5</td>\n",
       "      <td>JUNIOR</td>\n",
       "      <td>DOCTORAL</td>\n",
       "      <td>ENGINEERING</td>\n",
       "      <td>OIL</td>\n",
       "      <td>24</td>\n",
       "      <td>29</td>\n",
       "      <td>230</td>\n",
       "    </tr>\n",
       "    <tr>\n",
       "      <th>645555</th>\n",
       "      <td>COMP36</td>\n",
       "      <td>JUNIOR</td>\n",
       "      <td>DOCTORAL</td>\n",
       "      <td>BUSINESS</td>\n",
       "      <td>FINANCE</td>\n",
       "      <td>24</td>\n",
       "      <td>1</td>\n",
       "      <td>225</td>\n",
       "    </tr>\n",
       "    <tr>\n",
       "      <th>656572</th>\n",
       "      <td>COMP28</td>\n",
       "      <td>JUNIOR</td>\n",
       "      <td>DOCTORAL</td>\n",
       "      <td>BUSINESS</td>\n",
       "      <td>OIL</td>\n",
       "      <td>22</td>\n",
       "      <td>3</td>\n",
       "      <td>222</td>\n",
       "    </tr>\n",
       "    <tr>\n",
       "      <th>685775</th>\n",
       "      <td>COMP38</td>\n",
       "      <td>JUNIOR</td>\n",
       "      <td>BACHELORS</td>\n",
       "      <td>ENGINEERING</td>\n",
       "      <td>OIL</td>\n",
       "      <td>24</td>\n",
       "      <td>13</td>\n",
       "      <td>225</td>\n",
       "    </tr>\n",
       "    <tr>\n",
       "      <th>743326</th>\n",
       "      <td>COMP14</td>\n",
       "      <td>JUNIOR</td>\n",
       "      <td>DOCTORAL</td>\n",
       "      <td>BUSINESS</td>\n",
       "      <td>FINANCE</td>\n",
       "      <td>19</td>\n",
       "      <td>0</td>\n",
       "      <td>236</td>\n",
       "    </tr>\n",
       "    <tr>\n",
       "      <th>787674</th>\n",
       "      <td>COMP43</td>\n",
       "      <td>JUNIOR</td>\n",
       "      <td>DOCTORAL</td>\n",
       "      <td>BUSINESS</td>\n",
       "      <td>FINANCE</td>\n",
       "      <td>18</td>\n",
       "      <td>15</td>\n",
       "      <td>232</td>\n",
       "    </tr>\n",
       "    <tr>\n",
       "      <th>796956</th>\n",
       "      <td>COMP30</td>\n",
       "      <td>JUNIOR</td>\n",
       "      <td>MASTERS</td>\n",
       "      <td>BUSINESS</td>\n",
       "      <td>OIL</td>\n",
       "      <td>24</td>\n",
       "      <td>2</td>\n",
       "      <td>228</td>\n",
       "    </tr>\n",
       "    <tr>\n",
       "      <th>855219</th>\n",
       "      <td>COMP13</td>\n",
       "      <td>JUNIOR</td>\n",
       "      <td>MASTERS</td>\n",
       "      <td>ENGINEERING</td>\n",
       "      <td>OIL</td>\n",
       "      <td>22</td>\n",
       "      <td>26</td>\n",
       "      <td>225</td>\n",
       "    </tr>\n",
       "    <tr>\n",
       "      <th>954368</th>\n",
       "      <td>COMP11</td>\n",
       "      <td>JUNIOR</td>\n",
       "      <td>DOCTORAL</td>\n",
       "      <td>BUSINESS</td>\n",
       "      <td>OIL</td>\n",
       "      <td>24</td>\n",
       "      <td>26</td>\n",
       "      <td>223</td>\n",
       "    </tr>\n",
       "  </tbody>\n",
       "</table>\n",
       "</div>"
      ],
      "text/plain": [
       "       companyId jobType     degree        major industry  yearsExperience  \\\n",
       "1222      COMP40  JUNIOR    MASTERS      COMPSCI      OIL               24   \n",
       "27710     COMP21  JUNIOR   DOCTORAL  ENGINEERING      OIL               24   \n",
       "31355     COMP45  JUNIOR   DOCTORAL      COMPSCI  FINANCE               24   \n",
       "100042    COMP17  JUNIOR   DOCTORAL     BUSINESS  FINANCE               23   \n",
       "160333    COMP18  JUNIOR   DOCTORAL     BUSINESS  FINANCE               22   \n",
       "189582    COMP32  JUNIOR   DOCTORAL     BUSINESS      OIL               24   \n",
       "214606    COMP47  JUNIOR    MASTERS     BUSINESS  FINANCE               22   \n",
       "303778    COMP51  JUNIOR    MASTERS  ENGINEERING      WEB               24   \n",
       "348354    COMP56  JUNIOR   DOCTORAL  ENGINEERING      OIL               23   \n",
       "427593    COMP54  JUNIOR   DOCTORAL  ENGINEERING  FINANCE               23   \n",
       "500739    COMP40  JUNIOR   DOCTORAL  ENGINEERING      OIL               21   \n",
       "627534     COMP5  JUNIOR   DOCTORAL  ENGINEERING      OIL               24   \n",
       "645555    COMP36  JUNIOR   DOCTORAL     BUSINESS  FINANCE               24   \n",
       "656572    COMP28  JUNIOR   DOCTORAL     BUSINESS      OIL               22   \n",
       "685775    COMP38  JUNIOR  BACHELORS  ENGINEERING      OIL               24   \n",
       "743326    COMP14  JUNIOR   DOCTORAL     BUSINESS  FINANCE               19   \n",
       "787674    COMP43  JUNIOR   DOCTORAL     BUSINESS  FINANCE               18   \n",
       "796956    COMP30  JUNIOR    MASTERS     BUSINESS      OIL               24   \n",
       "855219    COMP13  JUNIOR    MASTERS  ENGINEERING      OIL               22   \n",
       "954368    COMP11  JUNIOR   DOCTORAL     BUSINESS      OIL               24   \n",
       "\n",
       "        milesFromMetropolis  salary  \n",
       "1222                      5     225  \n",
       "27710                     3     246  \n",
       "31355                     0     225  \n",
       "100042                    8     248  \n",
       "160333                    3     223  \n",
       "189582                   11     221  \n",
       "214606                    4     222  \n",
       "303778                    2     226  \n",
       "348354                   25     226  \n",
       "427593                    3     221  \n",
       "500739                    0     227  \n",
       "627534                   29     230  \n",
       "645555                    1     225  \n",
       "656572                    3     222  \n",
       "685775                   13     225  \n",
       "743326                    0     236  \n",
       "787674                   15     232  \n",
       "796956                    2     228  \n",
       "855219                   26     225  \n",
       "954368                   26     223  "
      ]
     },
     "execution_count": 26,
     "metadata": {},
     "output_type": "execute_result"
    }
   ],
   "source": [
    "#Explore the outliers at the upper end of the salary distribution where job level is listed as 'Junior'\n",
    "df[(df.salary > upperlimit) & (df.jobType == 'JUNIOR')]"
   ]
  },
  {
   "cell_type": "markdown",
   "metadata": {},
   "source": [
    "#### The majority of Junior positions require advanced degrees and are for jobs in the Oil and Finance industry. Since these are highly paid industry, these outliers are acceptable. "
   ]
  },
  {
   "cell_type": "markdown",
   "metadata": {},
   "source": [
    "### ---- Explore the data (EDA) ----"
   ]
  },
  {
   "cell_type": "markdown",
   "metadata": {},
   "source": [
    "#### Summarize each variable and look for correlation between features & each feature and the target"
   ]
  },
  {
   "cell_type": "code",
   "execution_count": 27,
   "metadata": {},
   "outputs": [
    {
     "data": {
      "image/png": "[encoded data removed]",
      "text/plain": [
       "<Figure size 1080x504 with 2 Axes>"
      ]
     },
     "metadata": {
      "needs_background": "light"
     },
     "output_type": "display_data"
    }
   ],
   "source": [
    "#Explore the target variable, salary\n",
    "plt.figure(figsize=(15,7))\n",
    "plt.subplot(1,2,1)\n",
    "sns.boxplot(df.salary)\n",
    "plt.subplot(1,2,2)\n",
    "sns.distplot(df.salary, bins=30)\n",
    "plt.show()"
   ]
  },
  {
   "cell_type": "code",
   "execution_count": 28,
   "metadata": {},
   "outputs": [],
   "source": [
    "#Eplore the feature variables\n",
    "def plot_features(df,var): \n",
    "    '''\n",
    "    produce plot for each features\n",
    "    plot1(left), the distribution of samples on the feature\n",
    "    plot2(right), the dependance of salary on the feature\n",
    "    '''\n",
    "    plt.figure(figsize = (14, 4))\n",
    "    plt.subplot(1, 2, 1)\n",
    "    if df[var].dtype == 'int64':\n",
    "        df[var].value_counts().sort_index().plot()\n",
    "    else:\n",
    "        #change the object datatype of each variable to category type and order their level by the mean salary\n",
    "        mean = df.groupby(var)[\"salary\"].mean()\n",
    "        df[var] = df[var].astype('category')\n",
    "        level = mean.sort_values().index.tolist()\n",
    "        df[var].cat.reorder_categories(level, inplace=True)\n",
    "        df[var].value_counts().plot()        \n",
    "    plt.xticks(rotation=45)\n",
    "    plt.xlabel(var)\n",
    "    plt.ylabel('Count')\n",
    "    \n",
    "    plt.subplot(1, 2, 2)\n",
    "    #There are many different companyIds so its better to visualize with a line graph\n",
    "    if df[var].dtype == 'int64' or var == \"companyId\": \n",
    "        #Plot the mean salary for each category and shade the line between the (mean - std, mean + std)\n",
    "        mean = df.groupby(var)[\"salary\"].mean()\n",
    "        std = df.groupby(var)[\"salary\"].std()\n",
    "        mean.plot()\n",
    "        plt.fill_between(range(len(std.index)), mean.values-std.values, mean.values + std.values,alpha = 0.1)\n",
    "    else:\n",
    "        sns.boxplot(x= var, y=\"salary\", data= df)\n",
    "    \n",
    "    plt.xticks(rotation=45)\n",
    "    plt.ylabel('Salary')\n",
    "    plt.show()"
   ]
  },
  {
   "cell_type": "code",
   "execution_count": 29,
   "metadata": {},
   "outputs": [
    {
     "name": "stderr",
     "output_type": "stream",
     "text": [
      "C:\\Anaconda\\lib\\site-packages\\pandas\\plotting\\_matplotlib\\core.py:1235: UserWarning: FixedFormatter should only be used together with FixedLocator\n",
      "  ax.set_xticklabels(xticklabels)\n",
      "C:\\Anaconda\\lib\\site-packages\\pandas\\plotting\\_matplotlib\\core.py:1235: UserWarning: FixedFormatter should only be used together with FixedLocator\n",
      "  ax.set_xticklabels(xticklabels)\n"
     ]
    },
    {
     "data": {
      "image/png": "[encoded data removed]",
      "text/plain": [
       "<Figure size 1008x288 with 2 Axes>"
      ]
     },
     "metadata": {
      "needs_background": "light"
     },
     "output_type": "display_data"
    }
   ],
   "source": [
    "plot_features(df,\"companyId\")"
   ]
  },
  {
   "cell_type": "code",
   "execution_count": 30,
   "metadata": {},
   "outputs": [
    {
     "name": "stderr",
     "output_type": "stream",
     "text": [
      "C:\\Anaconda\\lib\\site-packages\\pandas\\plotting\\_matplotlib\\core.py:1235: UserWarning: FixedFormatter should only be used together with FixedLocator\n",
      "  ax.set_xticklabels(xticklabels)\n"
     ]
    },
    {
     "data": {
      "image/png": "[encoded data removed]",
      "text/plain": [
       "<Figure size 1008x288 with 2 Axes>"
      ]
     },
     "metadata": {
      "needs_background": "light"
     },
     "output_type": "display_data"
    }
   ],
   "source": [
    "plot_features(df,\"jobType\")"
   ]
  },
  {
   "cell_type": "code",
   "execution_count": 31,
   "metadata": {},
   "outputs": [
    {
     "name": "stderr",
     "output_type": "stream",
     "text": [
      "C:\\Anaconda\\lib\\site-packages\\pandas\\plotting\\_matplotlib\\core.py:1235: UserWarning: FixedFormatter should only be used together with FixedLocator\n",
      "  ax.set_xticklabels(xticklabels)\n"
     ]
    },
    {
     "data": {
      "image/png": "[encoded data removed]",
      "text/plain": [
       "<Figure size 1008x288 with 2 Axes>"
      ]
     },
     "metadata": {
      "needs_background": "light"
     },
     "output_type": "display_data"
    }
   ],
   "source": [
    "plot_features(df,\"degree\")"
   ]
  },
  {
   "cell_type": "code",
   "execution_count": 32,
   "metadata": {},
   "outputs": [
    {
     "name": "stderr",
     "output_type": "stream",
     "text": [
      "C:\\Anaconda\\lib\\site-packages\\pandas\\plotting\\_matplotlib\\core.py:1235: UserWarning: FixedFormatter should only be used together with FixedLocator\n",
      "  ax.set_xticklabels(xticklabels)\n"
     ]
    },
    {
     "data": {
      "image/png": "[encoded data removed]",
      "text/plain": [
       "<Figure size 1008x288 with 2 Axes>"
      ]
     },
     "metadata": {
      "needs_background": "light"
     },
     "output_type": "display_data"
    }
   ],
   "source": [
    "plot_features(df,\"major\")"
   ]
  },
  {
   "cell_type": "code",
   "execution_count": 33,
   "metadata": {},
   "outputs": [
    {
     "name": "stderr",
     "output_type": "stream",
     "text": [
      "C:\\Anaconda\\lib\\site-packages\\pandas\\plotting\\_matplotlib\\core.py:1235: UserWarning: FixedFormatter should only be used together with FixedLocator\n",
      "  ax.set_xticklabels(xticklabels)\n"
     ]
    },
    {
     "data": {
      "image/png": "[encoded data removed]",
      "text/plain": [
       "<Figure size 1008x288 with 2 Axes>"
      ]
     },
     "metadata": {
      "needs_background": "light"
     },
     "output_type": "display_data"
    }
   ],
   "source": [
    "plot_features(df,\"industry\")"
   ]
  },
  {
   "cell_type": "code",
   "execution_count": 34,
   "metadata": {},
   "outputs": [
    {
     "data": {
      "image/png": "[encoded data removed]",
      "text/plain": [
       "<Figure size 1008x288 with 2 Axes>"
      ]
     },
     "metadata": {
      "needs_background": "light"
     },
     "output_type": "display_data"
    }
   ],
   "source": [
    "plot_features(df,\"yearsExperience\")"
   ]
  },
  {
   "cell_type": "code",
   "execution_count": 35,
   "metadata": {},
   "outputs": [
    {
     "data": {
      "image/png": "[encoded data removed]",
      "text/plain": [
       "<Figure size 1008x288 with 2 Axes>"
      ]
     },
     "metadata": {
      "needs_background": "light"
     },
     "output_type": "display_data"
    }
   ],
   "source": [
    "plot_features(df,\"milesFromMetropolis\")"
   ]
  },
  {
   "cell_type": "code",
   "execution_count": 36,
   "metadata": {},
   "outputs": [],
   "source": [
    "#Function for encoding categorical data in a dataframe\n",
    "def Encode_Data(df):    \n",
    "    for col in df.columns:\n",
    "        if df[col].dtype.name == 'category':\n",
    "            le = LabelEncoder()\n",
    "            df[col] = le.fit_transform(df[col])\n",
    "    return df"
   ]
  },
  {
   "cell_type": "code",
   "execution_count": 37,
   "metadata": {},
   "outputs": [],
   "source": [
    "#Create copy of dataframe and encode the categorical data\n",
    "df_baseline = df.copy()\n",
    "df_baseline = Encode_Data(df_baseline)"
   ]
  },
  {
   "cell_type": "code",
   "execution_count": 38,
   "metadata": {},
   "outputs": [
    {
     "data": {
      "image/png": "[encoded data removed]",
      "text/plain": [
       "<Figure size 792x576 with 2 Axes>"
      ]
     },
     "metadata": {
      "needs_background": "light"
     },
     "output_type": "display_data"
    }
   ],
   "source": [
    "#Plot seaborn heatmap to visualize correlation between variables\n",
    "plt.figure(figsize = (11,8))\n",
    "corr = df_baseline.corr()\n",
    "sns.heatmap(corr,\n",
    "            xticklabels = corr.columns.values,\n",
    "            yticklabels = corr.columns.values,cmap = \"magma\", vmin=-1, vmax=1,annot=True, linewidths=1)\n",
    "plt.title('Heatmap of Correlation Matrix')\n",
    "plt.show()"
   ]
  },
  {
   "cell_type": "markdown",
   "metadata": {},
   "source": [
    "#### Upon analyzation of the above graphs and heatmap, it looks like years experience and miles from metropolis are the features most correlated with salary. There are also no signs of collinearity between existing features. Company ID has almost zero correlation with salary and its removal from the final training set will be considered, but for now it will be included in the baseline model."
   ]
  },
  {
   "cell_type": "markdown",
   "metadata": {},
   "source": [
    "### ---- Establish a baseline ----"
   ]
  },
  {
   "cell_type": "markdown",
   "metadata": {},
   "source": [
    "#### Build a simple baseline model to track improvements."
   ]
  },
  {
   "cell_type": "code",
   "execution_count": 39,
   "metadata": {},
   "outputs": [
    {
     "data": {
      "text/plain": [
       "Index(['companyId', 'jobType', 'degree', 'major', 'industry',\n",
       "       'yearsExperience', 'milesFromMetropolis', 'salary'],\n",
       "      dtype='object')"
      ]
     },
     "execution_count": 39,
     "metadata": {},
     "output_type": "execute_result"
    }
   ],
   "source": [
    "#return feature column names\n",
    "df_baseline.columns"
   ]
  },
  {
   "cell_type": "code",
   "execution_count": 40,
   "metadata": {},
   "outputs": [],
   "source": [
    "#split features and targets into two separate dataframes\n",
    "df_features_baseline = df_baseline[['companyId','jobType', 'degree', 'major', 'industry',\n",
    "       'yearsExperience', 'milesFromMetropolis']]\n",
    "df_targets_baseline = df_baseline[['salary']]\n",
    "del df_baseline"
   ]
  },
  {
   "cell_type": "code",
   "execution_count": 41,
   "metadata": {},
   "outputs": [
    {
     "name": "stdout",
     "output_type": "stream",
     "text": [
      "Baseline MSE Score:  925.1195135463097\n"
     ]
    }
   ],
   "source": [
    "#fit a very basic linear model and calculate its MSE\n",
    "lr = LinearRegression()\n",
    "lr_baseline_mse = cross_val_score(lr, df_features_baseline, df_targets_baseline, scoring = 'neg_mean_squared_error')\n",
    "lr_baseline_mse = -1*lr_baseline_mse.mean()\n",
    "print(\"Baseline MSE Score: \", lr_baseline_mse)"
   ]
  },
  {
   "cell_type": "markdown",
   "metadata": {},
   "source": [
    "#### Additional models, hyperparameter tuning, and feature engineering will be utilized to reduce this baseline MSE, of about 925, to roughly one-third of this value."
   ]
  },
  {
   "cell_type": "markdown",
   "metadata": {},
   "source": [
    "### ---- Hypothesize solution ----"
   ]
  },
  {
   "cell_type": "markdown",
   "metadata": {},
   "source": [
    "#### Models expected to return better accuracy than the baseline linear model:\n",
    "- Stochastic Gradient Descent - Works well we large number of observations (<100K), may show improvement of linear regressor.\n",
    "- Decision Tree - Worth the effort as this algorithm is relatively simple and very popular.\n",
    "- Random Forest - If moving forward with one-hot encoding and creating more variables, this algorithm could provide higher accuracy over decision tree\n",
    "- Xgboost - This algorithm can optimize on least squares regression with a low probability of overfitting.\n",
    "\n",
    "#### Feature engineering explored in an effort to achieve a better accuracy over the baseline linear model:\n",
    "- Both ordinal encoding and one hot encoding were explored. They both resulted in a better mse score, but one hot encoding was superior. One hot encoding of the categorical features and min-max scaling of the continuous features (for SGD model) will be utilized.\n",
    "- Changing observations with degree != 'NONE' and major = 'NONE' to major = 'ANY' in order to distinguish between no degree / no major and degree / no major. This did not result in a better mse score.\n",
    "- Binning together degree = 'NONE' and degree = 'HIGH_SCHOOL'. This did not result in a better mse score.\n",
    "- Binning years experience and miles from metropolis. This did not result in a better mse score."
   ]
  },
  {
   "cell_type": "markdown",
   "metadata": {},
   "source": [
    "## Part 3 - DEVELOP"
   ]
  },
  {
   "cell_type": "markdown",
   "metadata": {},
   "source": [
    "### ----  Engineer features  ----"
   ]
  },
  {
   "cell_type": "code",
   "execution_count": 42,
   "metadata": {},
   "outputs": [],
   "source": [
    "#Separate categorical features into a separate dataframe for one hot encoding - excluding company ID from the model\n",
    "df_categories = df[['jobType', 'degree', 'major', 'industry']]\n",
    "df_categories = pd.get_dummies(df_categories,drop_first=True)"
   ]
  },
  {
   "cell_type": "code",
   "execution_count": 43,
   "metadata": {},
   "outputs": [
    {
     "data": {
      "text/plain": [
       "(999995, 25)"
      ]
     },
     "execution_count": 43,
     "metadata": {},
     "output_type": "execute_result"
    }
   ],
   "source": [
    "df_categories.shape"
   ]
  },
  {
   "cell_type": "code",
   "execution_count": 44,
   "metadata": {
    "scrolled": true
   },
   "outputs": [],
   "source": [
    "df_continuous = df[['yearsExperience','milesFromMetropolis']]\n",
    "cols = df_continuous.columns\n",
    "df_continuous = MinMaxScaler().fit_transform(df_continuous)\n",
    "df_continuous = pd.DataFrame(df_continuous, columns = cols)"
   ]
  },
  {
   "cell_type": "code",
   "execution_count": 45,
   "metadata": {},
   "outputs": [],
   "source": [
    "#Combine categorical features and numerical features\n",
    "df_features = pd.concat([df_categories.reset_index(drop=True),df_continuous],axis=1)\n",
    "df_targets = df[['salary']]\n",
    "del df_categories, df_continuous"
   ]
  },
  {
   "cell_type": "code",
   "execution_count": 46,
   "metadata": {
    "scrolled": true
   },
   "outputs": [
    {
     "data": {
      "text/plain": [
       "(999995, 27)"
      ]
     },
     "execution_count": 46,
     "metadata": {},
     "output_type": "execute_result"
    }
   ],
   "source": [
    "df_features.shape"
   ]
  },
  {
   "cell_type": "markdown",
   "metadata": {},
   "source": [
    "### ---- Create, test and select best model ----"
   ]
  },
  {
   "cell_type": "code",
   "execution_count": 47,
   "metadata": {},
   "outputs": [],
   "source": [
    "#Function for determining the 5F-CV MSE of each individual model\n",
    "def evaluate_model(model):\n",
    "    neg_mse = cross_val_score(model,df_features,df_targets.values.ravel(),scoring='neg_mean_squared_error')\n",
    "    mse = -1 * neg_mse\n",
    "    std_mse = mse.std()\n",
    "    mean_mse = mse.mean()\n",
    "    print(\"\\nModel:\\n\",model)\n",
    "    print(\"    Standard Deviation of Cross Validation MSEs:\\n    \", std_mse)\n",
    "    print(\"    Mean 5-Fold Cross Validation MSE:\\n    \", mean_mse)\n",
    "    return mean_mse"
   ]
  },
  {
   "cell_type": "code",
   "execution_count": 48,
   "metadata": {},
   "outputs": [
    {
     "name": "stdout",
     "output_type": "stream",
     "text": [
      "Starting Cross Validation of Models...\n",
      "\n",
      "\n",
      "Model:\n",
      " LinearRegression()\n",
      "    Standard Deviation of Cross Validation MSEs:\n",
      "     1.782017930828889\n",
      "    Mean 5-Fold Cross Validation MSE:\n",
      "     384.4143373223812\n",
      "\n",
      "Model:\n",
      " SGDRegressor(learning_rate='optimal', max_iter=200)\n",
      "    Standard Deviation of Cross Validation MSEs:\n",
      "     1.853858817502083\n",
      "    Mean 5-Fold Cross Validation MSE:\n",
      "     384.5534589184883\n",
      "\n",
      "Model:\n",
      " DecisionTreeRegressor(max_depth=15)\n",
      "    Standard Deviation of Cross Validation MSEs:\n",
      "     2.011612370327358\n",
      "    Mean 5-Fold Cross Validation MSE:\n",
      "     433.1285879321754\n",
      "\n",
      "Model:\n",
      " RandomForestRegressor(max_depth=30, max_features='sqrt', min_samples_split=60,\n",
      "                      n_estimators=150, n_jobs=-1)\n",
      "    Standard Deviation of Cross Validation MSEs:\n",
      "     1.7064529553217143\n",
      "    Mean 5-Fold Cross Validation MSE:\n",
      "     372.09158913196814\n",
      "\n",
      "Model:\n",
      " XGBRegressor(learning_rate=0.2, max_depth=4, n_estimators=200,\n",
      "             objective='reg:squarederror')\n",
      "    Standard Deviation of Cross Validation MSEs:\n",
      "     1.4101488962469202\n",
      "    Mean 5-Fold Cross Validation MSE:\n",
      "     359.3092501257464\n",
      "\n",
      "\n",
      "The model with the lowest average MSE to use for predictions is:\n",
      "\n",
      "XGBRegressor(learning_rate=0.2, max_depth=4, n_estimators=200,\n",
      "             objective='reg:squarederror')\n"
     ]
    }
   ],
   "source": [
    "#loop through different models and obtain each corresponding mse. Hyperparameters have been chosen through manual testing.\n",
    "models = []\n",
    "mean_mse = {}\n",
    "\n",
    "lr = LinearRegression()\n",
    "\n",
    "sgd = SGDRegressor(max_iter = 200, learning_rate = 'optimal')\n",
    "\n",
    "dtr = DecisionTreeRegressor(max_depth = 15)\n",
    "\n",
    "rf = RandomForestRegressor(n_estimators = 150, n_jobs = -1, max_depth = 30, min_samples_split = 60, max_features = 'sqrt')\n",
    "\n",
    "xgb = xgboost.XGBRegressor(max_depth = 4, n_estimators = 200, learning_rate = 0.2, objective = 'reg:squarederror')\n",
    "\n",
    "models.extend([lr,sgd,dtr,rf,xgb])\n",
    "\n",
    "print(\"Starting Cross Validation of Models...\\n\")\n",
    "\n",
    "for model in models:\n",
    "    mse_iter = evaluate_model(model)\n",
    "    mean_mse.update({model:mse_iter})\n",
    "    \n",
    "best_model = min(mean_mse,key=mean_mse.get)\n",
    "    \n",
    "print(\"\\n\\nThe model with the lowest average MSE to use for predictions is:\\n\")\n",
    "print(best_model)"
   ]
  },
  {
   "cell_type": "markdown",
   "metadata": {},
   "source": [
    "### ---- Fine-tune best model ----"
   ]
  },
  {
   "cell_type": "code",
   "execution_count": 49,
   "metadata": {},
   "outputs": [],
   "source": [
    "#split training data into training and testing dataframes for use in grid search function\n",
    "X_train, X_test, y_train, y_test = train_test_split(df_features, df_targets, random_state=36, test_size=0.2)"
   ]
  },
  {
   "cell_type": "code",
   "execution_count": 50,
   "metadata": {},
   "outputs": [],
   "source": [
    "# Create empty array to store results\n",
    "results = []\n",
    "\n",
    "# Create watchlist to keep track of train/validation performance\n",
    "eval_set = [(X_train, y_train), (X_test, y_test)]"
   ]
  },
  {
   "cell_type": "code",
   "execution_count": 51,
   "metadata": {},
   "outputs": [
    {
     "data": {
      "text/html": [
       "<div>\n",
       "<style scoped>\n",
       "    .dataframe tbody tr th:only-of-type {\n",
       "        vertical-align: middle;\n",
       "    }\n",
       "\n",
       "    .dataframe tbody tr th {\n",
       "        vertical-align: top;\n",
       "    }\n",
       "\n",
       "    .dataframe thead th {\n",
       "        text-align: right;\n",
       "    }\n",
       "</style>\n",
       "<table border=\"1\" class=\"dataframe\">\n",
       "  <thead>\n",
       "    <tr style=\"text-align: right;\">\n",
       "      <th></th>\n",
       "      <th>train_error</th>\n",
       "      <th>test_error</th>\n",
       "    </tr>\n",
       "    <tr>\n",
       "      <th>max_depth</th>\n",
       "      <th></th>\n",
       "      <th></th>\n",
       "    </tr>\n",
       "  </thead>\n",
       "  <tbody>\n",
       "    <tr>\n",
       "      <th>2</th>\n",
       "      <td>374.610929</td>\n",
       "      <td>372.236977</td>\n",
       "    </tr>\n",
       "    <tr>\n",
       "      <th>3</th>\n",
       "      <td>362.998304</td>\n",
       "      <td>361.491560</td>\n",
       "    </tr>\n",
       "    <tr>\n",
       "      <th>4</th>\n",
       "      <td>358.359948</td>\n",
       "      <td>357.305873</td>\n",
       "    </tr>\n",
       "    <tr>\n",
       "      <th>5</th>\n",
       "      <td>355.386789</td>\n",
       "      <td>356.404752</td>\n",
       "    </tr>\n",
       "    <tr>\n",
       "      <th>10</th>\n",
       "      <td>293.085752</td>\n",
       "      <td>369.157290</td>\n",
       "    </tr>\n",
       "    <tr>\n",
       "      <th>12</th>\n",
       "      <td>229.962078</td>\n",
       "      <td>388.669582</td>\n",
       "    </tr>\n",
       "    <tr>\n",
       "      <th>15</th>\n",
       "      <td>134.964527</td>\n",
       "      <td>434.130734</td>\n",
       "    </tr>\n",
       "  </tbody>\n",
       "</table>\n",
       "</div>"
      ],
      "text/plain": [
       "           train_error  test_error\n",
       "max_depth                         \n",
       "2           374.610929  372.236977\n",
       "3           362.998304  361.491560\n",
       "4           358.359948  357.305873\n",
       "5           355.386789  356.404752\n",
       "10          293.085752  369.157290\n",
       "12          229.962078  388.669582\n",
       "15          134.964527  434.130734"
      ]
     },
     "execution_count": 51,
     "metadata": {},
     "output_type": "execute_result"
    }
   ],
   "source": [
    "# Enumerate through different max_depth values and store results\n",
    "for max_depth in [2,3,4,5,10,12,15]:\n",
    "    clf = xgboost.XGBRegressor(max_depth = max_depth, learning_rate = 0.2, n_estimators = 200, objective = 'reg:squarederror')\n",
    "    clf.fit(X_train, y_train, eval_set=eval_set, verbose=False)\n",
    "    results.append(\n",
    "        {\n",
    "            'max_depth': max_depth,\n",
    "            'train_error': metrics.mean_squared_error(y_train, clf.predict(X_train)),\n",
    "            'test_error': metrics.mean_squared_error(y_test, clf.predict(X_test))\n",
    "        })\n",
    "    \n",
    "# Display Results\n",
    "max_depth_lr = pd.DataFrame(results).set_index('max_depth').sort_index()\n",
    "max_depth_lr"
   ]
  },
  {
   "cell_type": "code",
   "execution_count": 52,
   "metadata": {},
   "outputs": [
    {
     "data": {
      "text/plain": [
       "<AxesSubplot:title={'center':'Max_Depth Learning Curve'}, xlabel='max_depth'>"
      ]
     },
     "execution_count": 52,
     "metadata": {},
     "output_type": "execute_result"
    },
    {
     "data": {
      "image/png": "[encoded data removed]",
      "text/plain": [
       "<Figure size 432x288 with 1 Axes>"
      ]
     },
     "metadata": {
      "needs_background": "light"
     },
     "output_type": "display_data"
    }
   ],
   "source": [
    "# Plot Max_Depth Learning Curve\n",
    "max_depth_lr.plot(title=\"Max_Depth Learning Curve\")"
   ]
  },
  {
   "cell_type": "markdown",
   "metadata": {},
   "source": [
    "#### It looks like the optimal max_depth value is around 4 or 5. We will continue further testing with a value of 4 as max_depth for boosting trees should not exceed this value."
   ]
  },
  {
   "cell_type": "code",
   "execution_count": 53,
   "metadata": {},
   "outputs": [
    {
     "data": {
      "text/html": [
       "<div>\n",
       "<style scoped>\n",
       "    .dataframe tbody tr th:only-of-type {\n",
       "        vertical-align: middle;\n",
       "    }\n",
       "\n",
       "    .dataframe tbody tr th {\n",
       "        vertical-align: top;\n",
       "    }\n",
       "\n",
       "    .dataframe thead th {\n",
       "        text-align: right;\n",
       "    }\n",
       "</style>\n",
       "<table border=\"1\" class=\"dataframe\">\n",
       "  <thead>\n",
       "    <tr style=\"text-align: right;\">\n",
       "      <th></th>\n",
       "      <th>train_error</th>\n",
       "      <th>test_error</th>\n",
       "    </tr>\n",
       "    <tr>\n",
       "      <th>learning_rate</th>\n",
       "      <th></th>\n",
       "      <th></th>\n",
       "    </tr>\n",
       "  </thead>\n",
       "  <tbody>\n",
       "    <tr>\n",
       "      <th>0.05</th>\n",
       "      <td>393.880518</td>\n",
       "      <td>392.140931</td>\n",
       "    </tr>\n",
       "    <tr>\n",
       "      <th>0.10</th>\n",
       "      <td>363.194764</td>\n",
       "      <td>361.760581</td>\n",
       "    </tr>\n",
       "    <tr>\n",
       "      <th>0.20</th>\n",
       "      <td>358.359948</td>\n",
       "      <td>357.305873</td>\n",
       "    </tr>\n",
       "    <tr>\n",
       "      <th>0.40</th>\n",
       "      <td>355.616075</td>\n",
       "      <td>355.766613</td>\n",
       "    </tr>\n",
       "    <tr>\n",
       "      <th>0.60</th>\n",
       "      <td>354.489195</td>\n",
       "      <td>355.496813</td>\n",
       "    </tr>\n",
       "    <tr>\n",
       "      <th>0.80</th>\n",
       "      <td>354.011545</td>\n",
       "      <td>355.716576</td>\n",
       "    </tr>\n",
       "    <tr>\n",
       "      <th>1.00</th>\n",
       "      <td>353.620244</td>\n",
       "      <td>355.841460</td>\n",
       "    </tr>\n",
       "  </tbody>\n",
       "</table>\n",
       "</div>"
      ],
      "text/plain": [
       "               train_error  test_error\n",
       "learning_rate                         \n",
       "0.05            393.880518  392.140931\n",
       "0.10            363.194764  361.760581\n",
       "0.20            358.359948  357.305873\n",
       "0.40            355.616075  355.766613\n",
       "0.60            354.489195  355.496813\n",
       "0.80            354.011545  355.716576\n",
       "1.00            353.620244  355.841460"
      ]
     },
     "execution_count": 53,
     "metadata": {},
     "output_type": "execute_result"
    }
   ],
   "source": [
    "# Reset results array\n",
    "results = []\n",
    "\n",
    "# Enumerate through different learning_rate values and store results\n",
    "for learning_rate in [0.05,0.1,0.2,0.4,0.6,0.8,1]:\n",
    "    clf = xgboost.XGBRegressor(max_depth = 4, learning_rate = learning_rate, n_estimators=200, objective = 'reg:squarederror')\n",
    "    clf.fit(X_train, y_train, eval_set=eval_set, verbose=False)\n",
    "    results.append(\n",
    "        {\n",
    "            'learning_rate': learning_rate,\n",
    "            'train_error': metrics.mean_squared_error(y_train, clf.predict(X_train)),\n",
    "            'test_error': metrics.mean_squared_error(y_test, clf.predict(X_test))\n",
    "        })\n",
    "    \n",
    "# Display Results    \n",
    "learning_rate_lr = pd.DataFrame(results).set_index('learning_rate').sort_index()\n",
    "learning_rate_lr"
   ]
  },
  {
   "cell_type": "code",
   "execution_count": 54,
   "metadata": {},
   "outputs": [
    {
     "data": {
      "text/plain": [
       "<AxesSubplot:title={'center':'Learning Rate Learning Curve'}, xlabel='learning_rate'>"
      ]
     },
     "execution_count": 54,
     "metadata": {},
     "output_type": "execute_result"
    },
    {
     "data": {
      "image/png": "[encoded data removed]",
      "text/plain": [
       "<Figure size 432x288 with 1 Axes>"
      ]
     },
     "metadata": {
      "needs_background": "light"
     },
     "output_type": "display_data"
    }
   ],
   "source": [
    "#Plot Learning Rate Learning Curve\n",
    "learning_rate_lr.plot(title=\"Learning Rate Learning Curve\")"
   ]
  },
  {
   "cell_type": "markdown",
   "metadata": {},
   "source": [
    "#### It looks like the optimal learning_rate value is between 0.3 and 0.5. Further testing will continue with these values."
   ]
  },
  {
   "cell_type": "code",
   "execution_count": 55,
   "metadata": {},
   "outputs": [
    {
     "data": {
      "text/html": [
       "<div>\n",
       "<style scoped>\n",
       "    .dataframe tbody tr th:only-of-type {\n",
       "        vertical-align: middle;\n",
       "    }\n",
       "\n",
       "    .dataframe tbody tr th {\n",
       "        vertical-align: top;\n",
       "    }\n",
       "\n",
       "    .dataframe thead th {\n",
       "        text-align: right;\n",
       "    }\n",
       "</style>\n",
       "<table border=\"1\" class=\"dataframe\">\n",
       "  <thead>\n",
       "    <tr style=\"text-align: right;\">\n",
       "      <th></th>\n",
       "      <th>train_error</th>\n",
       "      <th>test_error</th>\n",
       "    </tr>\n",
       "    <tr>\n",
       "      <th>n_estimators</th>\n",
       "      <th></th>\n",
       "      <th></th>\n",
       "    </tr>\n",
       "  </thead>\n",
       "  <tbody>\n",
       "    <tr>\n",
       "      <th>50</th>\n",
       "      <td>394.573583</td>\n",
       "      <td>392.593612</td>\n",
       "    </tr>\n",
       "    <tr>\n",
       "      <th>60</th>\n",
       "      <td>383.407842</td>\n",
       "      <td>381.512851</td>\n",
       "    </tr>\n",
       "    <tr>\n",
       "      <th>100</th>\n",
       "      <td>365.557936</td>\n",
       "      <td>364.027336</td>\n",
       "    </tr>\n",
       "    <tr>\n",
       "      <th>150</th>\n",
       "      <td>360.515351</td>\n",
       "      <td>359.195003</td>\n",
       "    </tr>\n",
       "    <tr>\n",
       "      <th>200</th>\n",
       "      <td>358.359948</td>\n",
       "      <td>357.305873</td>\n",
       "    </tr>\n",
       "    <tr>\n",
       "      <th>500</th>\n",
       "      <td>354.247736</td>\n",
       "      <td>354.882259</td>\n",
       "    </tr>\n",
       "    <tr>\n",
       "      <th>750</th>\n",
       "      <td>352.762697</td>\n",
       "      <td>354.413865</td>\n",
       "    </tr>\n",
       "    <tr>\n",
       "      <th>1000</th>\n",
       "      <td>351.692722</td>\n",
       "      <td>354.313764</td>\n",
       "    </tr>\n",
       "    <tr>\n",
       "      <th>1500</th>\n",
       "      <td>350.093521</td>\n",
       "      <td>354.299623</td>\n",
       "    </tr>\n",
       "  </tbody>\n",
       "</table>\n",
       "</div>"
      ],
      "text/plain": [
       "              train_error  test_error\n",
       "n_estimators                         \n",
       "50             394.573583  392.593612\n",
       "60             383.407842  381.512851\n",
       "100            365.557936  364.027336\n",
       "150            360.515351  359.195003\n",
       "200            358.359948  357.305873\n",
       "500            354.247736  354.882259\n",
       "750            352.762697  354.413865\n",
       "1000           351.692722  354.313764\n",
       "1500           350.093521  354.299623"
      ]
     },
     "execution_count": 55,
     "metadata": {},
     "output_type": "execute_result"
    }
   ],
   "source": [
    "# Reset results array\n",
    "results = []\n",
    "\n",
    "# Enumerate through different n_estimators values and store results\n",
    "for n_estimators in [50,60,100,150,200,500,750,1000, 1500]:\n",
    "    clf = xgboost.XGBRegressor(max_depth = 4, learning_rate = 0.2, n_estimators = n_estimators, objective = 'reg:squarederror')\n",
    "    clf.fit(X_train, y_train, eval_set=eval_set, verbose=False)\n",
    "    results.append(\n",
    "        {\n",
    "            'n_estimators': n_estimators,\n",
    "            'train_error': metrics.mean_squared_error(y_train, clf.predict(X_train)),\n",
    "            'test_error': metrics.mean_squared_error(y_test, clf.predict(X_test))\n",
    "        })\n",
    "\n",
    "# Display Results\n",
    "n_estimators_lr = pd.DataFrame(results).set_index('n_estimators').sort_index()\n",
    "n_estimators_lr"
   ]
  },
  {
   "cell_type": "code",
   "execution_count": 56,
   "metadata": {},
   "outputs": [
    {
     "data": {
      "text/plain": [
       "<AxesSubplot:title={'center':'N_Estimators Learning Curve'}, xlabel='n_estimators'>"
      ]
     },
     "execution_count": 56,
     "metadata": {},
     "output_type": "execute_result"
    },
    {
     "data": {
      "image/png": "[encoded data removed]",
      "text/plain": [
       "<Figure size 432x288 with 1 Axes>"
      ]
     },
     "metadata": {
      "needs_background": "light"
     },
     "output_type": "display_data"
    }
   ],
   "source": [
    "#Plot N_Estimators Rate Learning Curve\n",
    "n_estimators_lr.plot(title=\"N_Estimators Learning Curve\")"
   ]
  },
  {
   "cell_type": "markdown",
   "metadata": {},
   "source": [
    "#### It looks like the optimal n_estimators value is around 500."
   ]
  },
  {
   "cell_type": "code",
   "execution_count": 57,
   "metadata": {},
   "outputs": [],
   "source": [
    "# Define Parameters for Grid Search function\n",
    "param_grid = {\"max_depth\": [2,3,4],\n",
    "              \"max_features\" : [1.0,0.5,0.1],\n",
    "              \"min_samples_leaf\" : [2,3,5],\n",
    "              \"n_estimators\": [300,500,600],\n",
    "              \"learning_rate\": [0.3,0.4,0.5]}\n",
    "\n",
    "# Initialize model parameter\n",
    "model = xgboost.XGBRegressor()"
   ]
  },
  {
   "cell_type": "code",
   "execution_count": 58,
   "metadata": {},
   "outputs": [
    {
     "name": "stdout",
     "output_type": "stream",
     "text": [
      "Fitting 3 folds for each of 243 candidates, totalling 729 fits\n"
     ]
    },
    {
     "name": "stderr",
     "output_type": "stream",
     "text": [
      "[Parallel(n_jobs=-1)]: Using backend LokyBackend with 8 concurrent workers.\n",
      "[Parallel(n_jobs=-1)]: Done   2 tasks      | elapsed:  7.2min\n",
      "[Parallel(n_jobs=-1)]: Done   9 tasks      | elapsed: 12.7min\n",
      "[Parallel(n_jobs=-1)]: Done  16 tasks      | elapsed: 23.0min\n",
      "[Parallel(n_jobs=-1)]: Done  25 tasks      | elapsed: 32.5min\n",
      "[Parallel(n_jobs=-1)]: Done  34 tasks      | elapsed: 42.0min\n",
      "[Parallel(n_jobs=-1)]: Done  45 tasks      | elapsed: 54.2min\n",
      "[Parallel(n_jobs=-1)]: Done  56 tasks      | elapsed: 66.2min\n",
      "[Parallel(n_jobs=-1)]: Done  69 tasks      | elapsed: 80.9min\n",
      "[Parallel(n_jobs=-1)]: Done  82 tasks      | elapsed: 93.5min\n",
      "[Parallel(n_jobs=-1)]: Done  97 tasks      | elapsed: 115.8min\n",
      "[Parallel(n_jobs=-1)]: Done 112 tasks      | elapsed: 143.0min\n",
      "[Parallel(n_jobs=-1)]: Done 129 tasks      | elapsed: 167.0min\n",
      "[Parallel(n_jobs=-1)]: Done 146 tasks      | elapsed: 192.1min\n",
      "[Parallel(n_jobs=-1)]: Done 165 tasks      | elapsed: 220.3min\n",
      "[Parallel(n_jobs=-1)]: Done 184 tasks      | elapsed: 260.8min\n",
      "[Parallel(n_jobs=-1)]: Done 205 tasks      | elapsed: 298.7min\n",
      "[Parallel(n_jobs=-1)]: Done 226 tasks      | elapsed: 340.0min\n",
      "[Parallel(n_jobs=-1)]: Done 249 tasks      | elapsed: 376.5min\n",
      "[Parallel(n_jobs=-1)]: Done 272 tasks      | elapsed: 398.5min\n",
      "[Parallel(n_jobs=-1)]: Done 297 tasks      | elapsed: 423.1min\n",
      "[Parallel(n_jobs=-1)]: Done 322 tasks      | elapsed: 449.2min\n",
      "[Parallel(n_jobs=-1)]: Done 349 tasks      | elapsed: 486.1min\n",
      "[Parallel(n_jobs=-1)]: Done 376 tasks      | elapsed: 523.8min\n",
      "[Parallel(n_jobs=-1)]: Done 405 tasks      | elapsed: 566.2min\n",
      "[Parallel(n_jobs=-1)]: Done 434 tasks      | elapsed: 622.0min\n",
      "[Parallel(n_jobs=-1)]: Done 465 tasks      | elapsed: 681.6min\n",
      "[Parallel(n_jobs=-1)]: Done 496 tasks      | elapsed: 732.3min\n",
      "[Parallel(n_jobs=-1)]: Done 529 tasks      | elapsed: 768.4min\n",
      "[Parallel(n_jobs=-1)]: Done 562 tasks      | elapsed: 801.7min\n",
      "[Parallel(n_jobs=-1)]: Done 597 tasks      | elapsed: 849.6min\n",
      "[Parallel(n_jobs=-1)]: Done 632 tasks      | elapsed: 902.3min\n",
      "[Parallel(n_jobs=-1)]: Done 669 tasks      | elapsed: 967.9min\n",
      "[Parallel(n_jobs=-1)]: Done 706 tasks      | elapsed: 1050.1min\n",
      "[Parallel(n_jobs=-1)]: Done 729 out of 729 | elapsed: 1092.0min finished\n"
     ]
    },
    {
     "name": "stdout",
     "output_type": "stream",
     "text": [
      "[15:43:51] WARNING: src/objective/regression_obj.cu:152: reg:linear is now deprecated in favor of reg:squarederror.\n"
     ]
    }
   ],
   "source": [
    "# Perform Grid Search CV\n",
    "gs_cv = GridSearchCV(model, param_grid=param_grid, cv = 3, verbose=10, n_jobs=-1 ).fit(X_train, y_train)"
   ]
  },
  {
   "cell_type": "code",
   "execution_count": 59,
   "metadata": {},
   "outputs": [
    {
     "data": {
      "text/plain": [
       "XGBRegressor(learning_rate=0.4, max_features=1.0, min_samples_leaf=2,\n",
       "             n_estimators=600)"
      ]
     },
     "execution_count": 59,
     "metadata": {},
     "output_type": "execute_result"
    }
   ],
   "source": [
    "# Return best hyperparameter setting\n",
    "gs_cv.best_estimator_"
   ]
  },
  {
   "cell_type": "code",
   "execution_count": 60,
   "metadata": {},
   "outputs": [],
   "source": [
    "# Save best hyperparameter setting\n",
    "best_model = gs_cv.best_estimator_"
   ]
  },
  {
   "cell_type": "code",
   "execution_count": 62,
   "metadata": {},
   "outputs": [
    {
     "name": "stdout",
     "output_type": "stream",
     "text": [
      "[15:56:27] WARNING: src/objective/regression_obj.cu:152: reg:linear is now deprecated in favor of reg:squarederror.\n",
      "[16:02:56] WARNING: src/objective/regression_obj.cu:152: reg:linear is now deprecated in favor of reg:squarederror.\n",
      "[16:09:24] WARNING: src/objective/regression_obj.cu:152: reg:linear is now deprecated in favor of reg:squarederror.\n",
      "[16:16:12] WARNING: src/objective/regression_obj.cu:152: reg:linear is now deprecated in favor of reg:squarederror.\n",
      "[16:23:57] WARNING: src/objective/regression_obj.cu:152: reg:linear is now deprecated in favor of reg:squarederror.\n",
      "\n",
      "Model:\n",
      " XGBRegressor(learning_rate=0.4, max_features=1.0, min_samples_leaf=2,\n",
      "             n_estimators=600)\n",
      "    Standard Deviation of Cross Validation MSEs:\n",
      "     1.2898810285173057\n",
      "    Mean 5-Fold Cross Validation MSE:\n",
      "     355.7364235391319\n"
     ]
    },
    {
     "data": {
      "text/plain": [
       "355.7364235391319"
      ]
     },
     "execution_count": 62,
     "metadata": {},
     "output_type": "execute_result"
    }
   ],
   "source": [
    "# Run model too see improvement of MSE\n",
    "evaluate_model(best_model)"
   ]
  },
  {
   "cell_type": "markdown",
   "metadata": {},
   "source": [
    "#### The model has not improved by much, but these hyperparameters will still be utilized for deployment."
   ]
  },
  {
   "cell_type": "markdown",
   "metadata": {},
   "source": [
    "## Part 4 - DEPLOY"
   ]
  },
  {
   "cell_type": "markdown",
   "metadata": {},
   "source": [
    "### ---- 11 Automate pipeline ----"
   ]
  },
  {
   "cell_type": "code",
   "execution_count": 63,
   "metadata": {},
   "outputs": [],
   "source": [
    "#Script that trains model on entire training set and saves model to disk\n",
    "def load_clean_model_data(raw_train_features, raw_train_targets):\n",
    "    \n",
    "    #load csv files\n",
    "    df_features = pd.read_csv(raw_train_features)\n",
    "    df_targets = pd.read_csv(raw_train_targets) \n",
    "\n",
    "    #clean feature and target dataframes per analysis above\n",
    "    df = pd.merge(df_features,df_targets, on='jobId')\n",
    "    df = df[df['salary'] > 0]\n",
    "    df_categories = df[['jobType', 'degree', 'major', 'industry']]\n",
    "    df_categories = pd.get_dummies(df_categories,drop_first=True)\n",
    "    df_features = pd.concat([df_categories,df[['yearsExperience','milesFromMetropolis']]],axis=1)\n",
    "    df_targets = df[['salary']]\n",
    "    del df_categories, df\n",
    "    \n",
    "    #implement best model discovered per analysis above\n",
    "    model = xgboost.XGBRegressor(learning_rate=0.4, max_features=1.0, min_samples_leaf=2,\n",
    "             n_estimators=600, objective = 'reg:squarederror')\n",
    "    model.fit(df_features,df_targets)\n",
    "    \n",
    "    #save model to disk\n",
    "    filename = 'salary_prediction.sav'\n",
    "    pickle.dump(model, open(filename,'wb'))\n",
    "    \n",
    "    #informs user that process is complete\n",
    "    print(\"Data prepraration and model creation complete.\")\n",
    "    \n",
    "    return filename\n",
    "\n",
    "#Script that prepares data, predicts salaries, and exports results\n",
    "def export_results(raw_test_features, filename):\n",
    "\n",
    "    #load csv file\n",
    "    df_pred_features = pd.read_csv(raw_test_features)\n",
    "    \n",
    "    #saves jobId column for output file\n",
    "    df_pred_jobId = pd.DataFrame(df_pred_features['jobId'])\n",
    "    \n",
    "    #prepares data to be fed into the model\n",
    "    df_pred_categories = df_pred_features[['jobType', 'degree', 'major', 'industry']]\n",
    "    df_pred_categories = pd.get_dummies(df_pred_categories,drop_first=True)\n",
    "    df_pred_features = pd.concat([df_pred_categories,df_pred_features[['yearsExperience','milesFromMetropolis']]],axis=1)\n",
    "    del df_pred_categories\n",
    "    \n",
    "    #loads model from disk, predicts salaries, and exports results to .csv file\n",
    "    loaded_model = pickle.load(open(filename, 'rb'))\n",
    "    df_pred = pd.DataFrame(loaded_model.predict(df_pred_features))\n",
    "    df_pred.columns = ['salary']\n",
    "    df_pred = pd.concat([df_pred_jobId,df_pred],axis=1)\n",
    "    df_pred.to_csv('predicted_salaries.csv')\n",
    "    \n",
    "    #plot feature importance of model and save figure to .jpg file\n",
    "    fig, ax = plt.subplots(figsize=(12,8))\n",
    "    xgboost.plot_importance(loaded_model, height=0.6, ax=ax)\n",
    "    fig.savefig('feature_importance.jpg')\n",
    "    \n",
    "    #informs user that process is complete\n",
    "    print(\"Predictions exported to .csv file.\",\"\\nFeature importances exported to .jpg file.\")"
   ]
  },
  {
   "cell_type": "markdown",
   "metadata": {},
   "source": [
    "### ---- 12 Deploy solution ----"
   ]
  },
  {
   "cell_type": "code",
   "execution_count": 64,
   "metadata": {},
   "outputs": [
    {
     "name": "stdout",
     "output_type": "stream",
     "text": [
      "Data prepraration and model creation complete.\n"
     ]
    }
   ],
   "source": [
    "filename = load_clean_model_data(\"data/train_features.csv\",\"data/train_salaries.csv\")"
   ]
  },
  {
   "cell_type": "code",
   "execution_count": 65,
   "metadata": {},
   "outputs": [
    {
     "name": "stdout",
     "output_type": "stream",
     "text": [
      "Predictions exported to .csv file. \n",
      "Feature importances exported to .jpg file.\n"
     ]
    },
    {
     "data": {
      "image/png": "[encoded data removed]",
      "text/plain": [
       "<Figure size 864x576 with 1 Axes>"
      ]
     },
     "metadata": {
      "needs_background": "light"
     },
     "output_type": "display_data"
    }
   ],
   "source": [
    "export_results(\"data/test_features.csv\",filename)"
   ]
  },
  {
   "cell_type": "code",
   "execution_count": null,
   "metadata": {},
   "outputs": [],
   "source": []
  }
 ],
 "metadata": {
  "kernelspec": {
   "display_name": "Python 3",
   "language": "python",
   "name": "python3"
  },
  "language_info": {
   "codemirror_mode": {
    "name": "ipython",
    "version": 3
   },
   "file_extension": ".py",
   "mimetype": "text/x-python",
   "name": "python",
   "nbconvert_exporter": "python",
   "pygments_lexer": "ipython3",
   "version": "3.7.7"
  }
 },
 "nbformat": 4,
 "nbformat_minor": 2
}
